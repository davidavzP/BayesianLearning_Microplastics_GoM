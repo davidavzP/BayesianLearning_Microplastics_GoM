{
 "cells": [
  {
   "cell_type": "code",
   "execution_count": 1,
   "id": "6ddbf456",
   "metadata": {},
   "outputs": [],
   "source": [
    "import xarray as xr\n",
    "import pandas as pd\n",
    "import numpy as np\n",
    "import os \n",
    "import timeit\n",
    "import math\n",
    "import time\n",
    "import sparse\n",
    "import dask\n",
    "import dask.array as da\n",
    "from dask.diagnostics import ProgressBar\n",
    "from glob import glob\n",
    "from os import path\n",
    "import pickle\n",
    "from tqdm import tqdm\n",
    "\n",
    "from ll_Balltree import *\n",
    "%run -i 'll_Balltree.py'"
   ]
  },
  {
   "cell_type": "code",
   "execution_count": 2,
   "id": "19fab597",
   "metadata": {},
   "outputs": [
    {
     "data": {
      "text/plain": [
       "(-97.98001098632812,\n",
       " -76.45999145507812,\n",
       " 18.140000343322754,\n",
       " 31.899998664855957,\n",
       " 345,\n",
       " 539,\n",
       " 0.03997802734375,\n",
       " 0.03999900817871094)"
      ]
     },
     "execution_count": 2,
     "metadata": {},
     "output_type": "execute_result"
    }
   ],
   "source": [
    "outputDir = 'data/posterior_computation_data/'\n",
    "gom_masks = xr.open_dataset(outputDir + 'gom_masks.nc')\n",
    "\n",
    "# GLOBAL CONSTANTS\n",
    "MIN_LON = np.min(gom_masks['lon'].values)\n",
    "MAX_LON = np.max(gom_masks['lon'].values)\n",
    "MIN_LAT = np.min(gom_masks['lat'].values)\n",
    "MAX_LAT = np.max(gom_masks['lat'].values)\n",
    "\n",
    "#domain width and height (cell counts)\n",
    "LAT_SIZE = gom_masks.dims['lat']\n",
    "LON_SIZE = gom_masks.dims['lon']\n",
    "\n",
    "#cell size\n",
    "D_LON = gom_masks[\"lon\"][1].values - gom_masks[\"lon\"][0].values\n",
    "D_LAT = gom_masks[\"lat\"][1].values - gom_masks[\"lat\"][0].values\n",
    "\n",
    "BIN_CELL_LATS = gom_masks.bin_cell_lats.values\n",
    "BIN_CELL_LONS = gom_masks.bin_cell_lons.values\n",
    "\n",
    "MIN_LON, MAX_LON, MIN_LAT, MAX_LAT,LAT_SIZE,LON_SIZE, D_LON,D_LAT"
   ]
  },
  {
   "cell_type": "code",
   "execution_count": 3,
   "id": "55070085",
   "metadata": {},
   "outputs": [],
   "source": [
    "inputDir_Sim = ('data/output_v2/rechunked/')\n",
    "inputFiles_Sim = sorted(glob(inputDir_Sim + '*.zarr' ))\n",
    "\n",
    "# Save domain_cell_tree\n",
    "fileObj = open(outputDir + 'output_dict.obj', 'rb')\n",
    "output = pickle.load(fileObj)\n",
    "fileObj.close()"
   ]
  },
  {
   "cell_type": "code",
   "execution_count": 4,
   "id": "d584dc9e",
   "metadata": {},
   "outputs": [],
   "source": [
    "n_cell_beaching = output['n_cell_beaching']\n",
    "n_cell_source = output['n_cell_source']\n",
    "n_window_beaching = output['n_window_beaching'] \n",
    "n_window_source = output['n_window_source']\n",
    "\n",
    "particle_count = output['particle_count']\n",
    "\n",
    "beaching_cells = output['beaching_cells'] \n",
    "beaching_cell_tree = output['beaching_cell_tree']\n",
    "\n",
    "source_cell_mask = output['source_cell_mask']\n",
    "source_cells = output['source_cells']\n",
    "source_cell_tree = output['source_cell_tree']\n",
    "\n",
    "beaching_windows = output['beaching_windows']\n",
    "source_windows = output['source_windows']\n",
    "d = output['d']\n",
    "beaching_ym_mat = output['beaching_ym_mat']\n",
    "source_ym_mat = output['source_ym_mat']"
   ]
  },
  {
   "cell_type": "markdown",
   "id": "26b3f26f",
   "metadata": {},
   "source": [
    "Compute Trajectories for Posterior Computation"
   ]
  },
  {
   "cell_type": "code",
   "execution_count": 5,
   "id": "ac150250",
   "metadata": {},
   "outputs": [],
   "source": [
    "file_particle_counts = []\n",
    "file_obs_counts = []\n",
    "for i in range(5):\n",
    "        filename = inputFiles_Sim[i]\n",
    "        df = xr.open_zarr(filename).dropna(dim=\"trajectory\", how=\"all\")\n",
    "        file_particle_counts.append(df.dims['trajectory'])\n",
    "        file_obs_counts.append(df.dims['obs'])"
   ]
  },
  {
   "cell_type": "code",
   "execution_count": 6,
   "id": "2c5e4019",
   "metadata": {},
   "outputs": [
    {
     "data": {
      "text/plain": [
       "(349177, 182)"
      ]
     },
     "execution_count": 6,
     "metadata": {},
     "output_type": "execute_result"
    }
   ],
   "source": [
    "n_total_particles, n_obs = sum(file_particle_counts), file_obs_counts[0]\n",
    "(n_total_particles, n_obs)"
   ]
  },
  {
   "cell_type": "code",
   "execution_count": 7,
   "id": "4f972e49",
   "metadata": {
    "scrolled": true
   },
   "outputs": [
    {
     "name": "stdout",
     "output_type": "stream",
     "text": [
      "Processing: data/output_v2/rechunked/GOM_rt_2019_12.0-7.0_at_180.0.zarr\n",
      "df shape: Frozen({'trajectory': 102710, 'obs': 182})\n"
     ]
    },
    {
     "name": "stderr",
     "output_type": "stream",
     "text": [
      "Compute Trajectory Counts: 100%|██████████| 102710/102710 [02:29<00:00, 687.55it/s]\n"
     ]
    },
    {
     "name": "stdout",
     "output_type": "stream",
     "text": [
      "Processing: data/output_v2/rechunked/GOM_rt_2020_12.0-7.0_at_180.0.zarr\n",
      "df shape: Frozen({'trajectory': 113992, 'obs': 182})\n"
     ]
    },
    {
     "name": "stderr",
     "output_type": "stream",
     "text": [
      "Compute Trajectory Counts: 100%|██████████| 113992/113992 [02:14<00:00, 844.92it/s]\n"
     ]
    },
    {
     "name": "stdout",
     "output_type": "stream",
     "text": [
      "Processing: data/output_v2/rechunked/GOM_rt_2020_6.0-1.0_at_180.0.zarr\n",
      "df shape: Frozen({'trajectory': 44828, 'obs': 182})\n"
     ]
    },
    {
     "name": "stderr",
     "output_type": "stream",
     "text": [
      "Compute Trajectory Counts: 100%|██████████| 44828/44828 [01:06<00:00, 676.91it/s] \n"
     ]
    },
    {
     "name": "stdout",
     "output_type": "stream",
     "text": [
      "Processing: data/output_v2/rechunked/GOM_rt_2021_12.0-7.0_at_180.0.zarr\n",
      "df shape: Frozen({'trajectory': 23475, 'obs': 182})\n"
     ]
    },
    {
     "name": "stderr",
     "output_type": "stream",
     "text": [
      "Compute Trajectory Counts: 100%|██████████| 23475/23475 [00:30<00:00, 758.42it/s]\n"
     ]
    },
    {
     "name": "stdout",
     "output_type": "stream",
     "text": [
      "Processing: data/output_v2/rechunked/GOM_rt_2021_6.0-1.0_at_180.0.zarr\n",
      "df shape: Frozen({'trajectory': 61589, 'obs': 182})\n"
     ]
    },
    {
     "name": "stderr",
     "output_type": "stream",
     "text": [
      "Compute Trajectory Counts: 100%|██████████| 61589/61589 [01:43<00:00, 597.37it/s] \n"
     ]
    }
   ],
   "source": [
    "beaching_locs = np.zeros((n_total_particles))*np.nan\n",
    "source_traj_locs = np.zeros((n_total_particles, (n_obs-1)))*np.nan\n",
    "beaching_times = np.zeros((n_total_particles))*np.nan\n",
    "source_traj_times = np.zeros((n_total_particles, (n_obs-1)))*np.nan\n",
    "\n",
    "# Trajectories are stored in 5 seperate files \n",
    "particle_counter = 0\n",
    "\n",
    "for file in inputFiles_Sim:\n",
    "\n",
    "    print(\"Processing: \" + file)\n",
    "\n",
    "    df = xr.open_zarr(file).dropna(dim=\"trajectory\", how=\"any\")\n",
    "\n",
    "    print(\"df shape: \" + str(df.dims))\n",
    "\n",
    "    # Get raw values\n",
    "    time_raw = pd.DatetimeIndex(df['time'].values)\n",
    "    x_raw = df['lon'].values\n",
    "    y_raw = df['lat'].values\n",
    "    oob_raw = df['beached'].values\n",
    "\n",
    "    # Get Nurdle Beaching Count\n",
    "    query = get_cells(None, y_raw[:,0], x_raw[:,0])\n",
    "    _, cell_beaching_inds = query_ll_BallTree(tree = beaching_cell_tree, cells = query)\n",
    "\n",
    "    # COMPUTE BIN COUNTS\n",
    "    for i in tqdm(range(len(x_raw)), desc = \"Compute Trajectory Counts\"):\n",
    "        #Get beaching location\n",
    "        beaching_cell_ind = cell_beaching_inds[i]\n",
    "\n",
    "        # Get source locations\n",
    "        source_ll_query = get_cells(None,  y_raw[i, 1:], x_raw[i, 1:])\n",
    "        _, source_cells_inds = query_ll_BallTree(tree = source_cell_tree, cells = source_ll_query)\n",
    "        source_cells_inds = np.array(source_cells_inds, dtype=float)\n",
    "\n",
    "        # Nans must be added since BallTree cannot query NaNs\n",
    "        oob_inds = np.array(np.where(oob_raw[i,  1:] == 5.0)[0])\n",
    "        source_cells_inds[oob_inds] = np.nan\n",
    "\n",
    "        # Get beaching window\n",
    "        beaching_windows_raw = time_raw[i][0]\n",
    "        beaching_window_ind = beaching_ym_mat[beaching_windows_raw.year - 2019, beaching_windows_raw.month - 1]\n",
    "\n",
    "        # Get source windows\n",
    "        source_windows_raw = time_raw[i][1:]\n",
    "        source_windows_inds = source_ym_mat[(source_windows_raw.year - 2019), (source_windows_raw.month - 1)]\n",
    "\n",
    "        beaching_locs[particle_counter] = beaching_cell_ind\n",
    "        source_traj_locs[particle_counter, :] = source_cells_inds\n",
    "        beaching_times[particle_counter] = beaching_window_ind\n",
    "        source_traj_times[particle_counter, :] = source_windows_inds\n",
    "\n",
    "        particle_counter += 1\n",
    "            "
   ]
  },
  {
   "cell_type": "code",
   "execution_count": 8,
   "id": "e9b338ae",
   "metadata": {},
   "outputs": [],
   "source": [
    "ds = xr.Dataset(\n",
    "    {\n",
    "        'beaching_locs': (['trajectory'], beaching_locs),\n",
    "        'source_traj_locs': (['trajectory', 'locations'], source_traj_locs),\n",
    "        'beaching_times': (['trajectory'], beaching_times),\n",
    "        'source_traj_times': (['trajectory', 'locations'], source_traj_times),\n",
    "        \n",
    "\n",
    "    },\n",
    "    coords={\n",
    "        'trajectory': np.arange(0,n_total_particles),\n",
    "        'locations': np.arange((n_obs-1)),\n",
    "    },\n",
    ")"
   ]
  },
  {
   "cell_type": "code",
   "execution_count": 9,
   "id": "92f01e9b",
   "metadata": {},
   "outputs": [],
   "source": [
    "ds.to_netcdf(outputDir + 'trajectory_mat_st.nc')"
   ]
  }
 ],
 "metadata": {
  "kernelspec": {
   "display_name": "Python3 py3_parcels",
   "language": "python",
   "name": "py3_parcels"
  },
  "language_info": {
   "codemirror_mode": {
    "name": "ipython",
    "version": 3
   },
   "file_extension": ".py",
   "mimetype": "text/x-python",
   "name": "python",
   "nbconvert_exporter": "python",
   "pygments_lexer": "ipython3",
   "version": "3.10.8"
  }
 },
 "nbformat": 4,
 "nbformat_minor": 5
}
