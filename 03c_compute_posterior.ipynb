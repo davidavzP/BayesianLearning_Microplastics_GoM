{
 "cells": [
  {
   "cell_type": "code",
   "execution_count": 1,
   "id": "720c91aa",
   "metadata": {},
   "outputs": [],
   "source": [
    "import xarray as xr\n",
    "import pandas as pd\n",
    "import numpy as np\n",
    "import os \n",
    "import timeit\n",
    "import math\n",
    "import time\n",
    "import sparse\n",
    "import dask\n",
    "import dask.array as da\n",
    "from dask.diagnostics import ProgressBar\n",
    "from glob import glob\n",
    "from os import path\n",
    "import pickle\n",
    "from tqdm import tqdm\n",
    "\n",
    "from ll_Balltree import *\n",
    "%run -i 'll_Balltree.py'"
   ]
  },
  {
   "cell_type": "code",
   "execution_count": 2,
   "id": "da8d3325",
   "metadata": {},
   "outputs": [],
   "source": [
    "outputDir = 'data/posterior_computation_data/'"
   ]
  },
  {
   "cell_type": "code",
   "execution_count": 3,
   "id": "ac5bec4c",
   "metadata": {},
   "outputs": [],
   "source": [
    "# Load domain_cell_tree\n",
    "fileObj = open(outputDir + 'output_dict.obj', 'rb')\n",
    "output = pickle.load(fileObj)\n",
    "fileObj.close()"
   ]
  },
  {
   "cell_type": "code",
   "execution_count": 4,
   "id": "69ec8f3b",
   "metadata": {},
   "outputs": [
    {
     "data": {
      "text/plain": [
       "(188, 114024, 30, 36)"
      ]
     },
     "execution_count": 4,
     "metadata": {},
     "output_type": "execute_result"
    }
   ],
   "source": [
    "n_cell_beaching = output['n_cell_beaching']\n",
    "n_cell_source = output['n_cell_source']\n",
    "n_window_beaching = output['n_window_beaching'] \n",
    "n_window_source = output['n_window_source']\n",
    "\n",
    "particle_count = output['particle_count']\n",
    "\n",
    "beaching_cells = output['beaching_cells'] \n",
    "beaching_cell_tree = output['beaching_cell_tree']\n",
    "\n",
    "source_cell_mask = output['source_cell_mask']\n",
    "source_cells = output['source_cells']\n",
    "source_cell_tree = output['source_cell_tree']\n",
    "\n",
    "beaching_windows = output['beaching_windows']\n",
    "source_windows = output['source_windows']\n",
    "d = output['d']\n",
    "beaching_ym_mat = output['beaching_ym_mat']\n",
    "source_ym_mat = output['source_ym_mat']\n",
    "\n",
    "n_cell_beaching,n_cell_source,n_window_beaching, n_window_source"
   ]
  },
  {
   "cell_type": "code",
   "execution_count": 5,
   "id": "4918c4fb",
   "metadata": {},
   "outputs": [],
   "source": [
    "ds = xr.open_zarr(outputDir + 'nn_post_reshaped.zarr')"
   ]
  },
  {
   "cell_type": "code",
   "execution_count": 6,
   "id": "d4ff36e7",
   "metadata": {
    "scrolled": true
   },
   "outputs": [
    {
     "name": "stdout",
     "output_type": "stream",
     "text": [
      "[#                                       ] | 3% Completed | 4.00 s ms"
     ]
    },
    {
     "name": "stderr",
     "output_type": "stream",
     "text": [
      "/home/dpojunas/.conda/envs/py3_parcels/lib/python3.10/site-packages/dask/core.py:121: RuntimeWarning: invalid value encountered in divide\n",
      "  return func(*(_execute_task(a, cache) for a in args))\n"
     ]
    },
    {
     "name": "stdout",
     "output_type": "stream",
     "text": [
      "[########################################] | 100% Completed | 124.39 s\n",
      "[#                                       ] | 3% Completed | 3.99 s ms"
     ]
    },
    {
     "name": "stderr",
     "output_type": "stream",
     "text": [
      "/home/dpojunas/.conda/envs/py3_parcels/lib/python3.10/site-packages/dask/core.py:121: RuntimeWarning: invalid value encountered in divide\n",
      "  return func(*(_execute_task(a, cache) for a in args))\n"
     ]
    },
    {
     "name": "stdout",
     "output_type": "stream",
     "text": [
      "[########################################] | 100% Completed | 124.48 s\n",
      "[#                                       ] | 3% Completed | 3.99 s ms"
     ]
    },
    {
     "name": "stderr",
     "output_type": "stream",
     "text": [
      "/home/dpojunas/.conda/envs/py3_parcels/lib/python3.10/site-packages/dask/core.py:121: RuntimeWarning: invalid value encountered in divide\n",
      "  return func(*(_execute_task(a, cache) for a in args))\n"
     ]
    },
    {
     "name": "stdout",
     "output_type": "stream",
     "text": [
      "[########################################] | 100% Completed | 125.60 s\n"
     ]
    }
   ],
   "source": [
    "with ProgressBar():\n",
    "    n_post_norm = np.sum(ds.l_n_post, axis = 0) +  np.sum(ds.r_n_post, axis = 0) + np.sum(ds.f_n_post, axis = 0)\n",
    "\n",
    "    l_n_post  = np.nan_to_num(ds.l_n_post / n_post_norm)\n",
    "    r_n_post  = np.nan_to_num(ds.r_n_post / n_post_norm)\n",
    "    f_n_post  = np.nan_to_num(ds.f_n_post / n_post_norm)"
   ]
  },
  {
   "cell_type": "code",
   "execution_count": 7,
   "id": "a0d2eabe",
   "metadata": {},
   "outputs": [],
   "source": [
    "n_post = xr.Dataset(\n",
    "    {\n",
    "        'l_n_post': (['dsource_windows_cells', 'beaching_window_cells' ], l_n_post),\n",
    "        'r_n_post': (['dsource_windows_cells', 'beaching_window_cells' ], r_n_post),\n",
    "        'f_n_post': (['dsource_windows_cells', 'beaching_window_cells' ], f_n_post),\n",
    "    },\n",
    "    coords={\n",
    "        'dsource_windows_cells': np.arange(n_cell_source*(d+1)),\n",
    "        'beaching_window_cells': np.arange((n_cell_beaching*n_window_beaching)),\n",
    "    },\n",
    ")"
   ]
  },
  {
   "cell_type": "code",
   "execution_count": 8,
   "id": "fbfd69ab",
   "metadata": {},
   "outputs": [
    {
     "name": "stdout",
     "output_type": "stream",
     "text": [
      "re-chunking\n",
      "   done in 127.65097260475159\n"
     ]
    }
   ],
   "source": [
    "chunksize = {'dsource_windows_cells': n_cell_source,\n",
    "             'beaching_window_cells': n_cell_beaching}\n",
    "\n",
    "print('re-chunking')\n",
    "tic=time.time()\n",
    "n_post = n_post.chunk(chunksize)\n",
    "print('   done in',time.time()-tic)"
   ]
  },
  {
   "cell_type": "code",
   "execution_count": 9,
   "id": "87170607",
   "metadata": {},
   "outputs": [
    {
     "name": "stdout",
     "output_type": "stream",
     "text": [
      "[########################################] | 100% Completed | 169.72 s\n"
     ]
    }
   ],
   "source": [
    "delayed_obj = n_post.to_zarr(outputDir + \"n_post.zarr\", compute=False)\n",
    "\n",
    "with ProgressBar():\n",
    "    results = delayed_obj.compute()"
   ]
  }
 ],
 "metadata": {
  "kernelspec": {
   "display_name": "Python3 py3_parcels",
   "language": "python",
   "name": "py3_parcels"
  },
  "language_info": {
   "codemirror_mode": {
    "name": "ipython",
    "version": 3
   },
   "file_extension": ".py",
   "mimetype": "text/x-python",
   "name": "python",
   "nbconvert_exporter": "python",
   "pygments_lexer": "ipython3",
   "version": "3.10.8"
  }
 },
 "nbformat": 4,
 "nbformat_minor": 5
}
