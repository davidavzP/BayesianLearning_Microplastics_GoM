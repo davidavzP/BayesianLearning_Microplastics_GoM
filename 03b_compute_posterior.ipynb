{
 "cells": [
  {
   "cell_type": "code",
   "execution_count": 1,
   "id": "6ddbf456",
   "metadata": {},
   "outputs": [],
   "source": [
    "import xarray as xr\n",
    "import pandas as pd\n",
    "import numpy as np\n",
    "import os \n",
    "import timeit\n",
    "import math\n",
    "import time\n",
    "import sparse\n",
    "import dask\n",
    "import dask.array as da\n",
    "from dask.diagnostics import ProgressBar\n",
    "from glob import glob\n",
    "from os import path\n",
    "import pickle\n",
    "from tqdm import tqdm\n",
    "\n",
    "from ll_Balltree import *\n",
    "%run -i 'll_Balltree.py'"
   ]
  },
  {
   "cell_type": "code",
   "execution_count": 2,
   "id": "abf33ec8",
   "metadata": {},
   "outputs": [
    {
     "data": {
      "text/plain": [
       "(-97.98001098632812,\n",
       " -76.45999145507812,\n",
       " 18.140000343322754,\n",
       " 31.899998664855957,\n",
       " 345,\n",
       " 539,\n",
       " 0.03997802734375,\n",
       " 0.03999900817871094)"
      ]
     },
     "execution_count": 2,
     "metadata": {},
     "output_type": "execute_result"
    }
   ],
   "source": [
    "outputDir = 'data/posterior_computation_data/'\n",
    "gom_masks = xr.open_dataset(outputDir + 'gom_masks.nc')\n",
    "\n",
    "# GLOBAL CONSTANTS\n",
    "MIN_LON = np.min(gom_masks['lon'].values)\n",
    "MAX_LON = np.max(gom_masks['lon'].values)\n",
    "MIN_LAT = np.min(gom_masks['lat'].values)\n",
    "MAX_LAT = np.max(gom_masks['lat'].values)\n",
    "\n",
    "#domain width and height (cell counts)\n",
    "LAT_SIZE = gom_masks.dims['lat']\n",
    "LON_SIZE = gom_masks.dims['lon']\n",
    "\n",
    "#cell size\n",
    "D_LON = gom_masks[\"lon\"][1].values - gom_masks[\"lon\"][0].values\n",
    "D_LAT = gom_masks[\"lat\"][1].values - gom_masks[\"lat\"][0].values\n",
    "\n",
    "BIN_CELL_LATS = gom_masks.bin_cell_lats.values\n",
    "BIN_CELL_LONS = gom_masks.bin_cell_lons.values\n",
    "\n",
    "MIN_LON, MAX_LON, MIN_LAT, MAX_LAT,LAT_SIZE,LON_SIZE, D_LON,D_LAT"
   ]
  },
  {
   "cell_type": "code",
   "execution_count": 3,
   "id": "a355f8ee",
   "metadata": {},
   "outputs": [],
   "source": [
    "# Load domain_cell_tree\n",
    "fileObj = open(outputDir + 'output_dict.obj', 'rb')\n",
    "output = pickle.load(fileObj)\n",
    "fileObj.close()"
   ]
  },
  {
   "cell_type": "code",
   "execution_count": 4,
   "id": "31d5db5d",
   "metadata": {},
   "outputs": [
    {
     "data": {
      "text/plain": [
       "(188, 114024, 30, 36)"
      ]
     },
     "execution_count": 4,
     "metadata": {},
     "output_type": "execute_result"
    }
   ],
   "source": [
    "n_cell_beaching = output['n_cell_beaching']\n",
    "n_cell_source = output['n_cell_source']\n",
    "n_window_beaching = output['n_window_beaching'] \n",
    "n_window_source = output['n_window_source']\n",
    "\n",
    "particle_count = output['particle_count']\n",
    "\n",
    "beaching_cells = output['beaching_cells'] \n",
    "beaching_cell_tree = output['beaching_cell_tree']\n",
    "\n",
    "source_cell_mask = output['source_cell_mask']\n",
    "source_cells = output['source_cells']\n",
    "source_cell_tree = output['source_cell_tree']\n",
    "\n",
    "beaching_windows = output['beaching_windows']\n",
    "source_windows = output['source_windows']\n",
    "d = output['d']\n",
    "beaching_ym_mat = output['beaching_ym_mat']\n",
    "source_ym_mat = output['source_ym_mat']\n",
    "n_cell_beaching,n_cell_source,n_window_beaching, n_window_source"
   ]
  },
  {
   "cell_type": "markdown",
   "id": "eaa337b6",
   "metadata": {},
   "source": [
    "Compute Posterior Quantities"
   ]
  },
  {
   "cell_type": "code",
   "execution_count": 5,
   "id": "3cf94e96",
   "metadata": {},
   "outputs": [],
   "source": [
    "ds = xr.open_zarr(outputDir + 'nn_post.zarr')"
   ]
  },
  {
   "cell_type": "code",
   "execution_count": 6,
   "id": "83cf2aa2",
   "metadata": {},
   "outputs": [
    {
     "name": "stderr",
     "output_type": "stream",
     "text": [
      "100%|██████████| 30/30 [01:55<00:00,  3.86s/it]\n"
     ]
    }
   ],
   "source": [
    "# Compute normalized posteriors\n",
    "l_n_post = np.zeros(((n_cell_source*(d+1)), (n_cell_beaching*n_window_beaching)))\n",
    "r_n_post = np.zeros(((n_cell_source*(d+1)), (n_cell_beaching*n_window_beaching)))\n",
    "f_n_post = np.zeros(((n_cell_source*(d+1)), (n_cell_beaching*n_window_beaching)))\n",
    "\n",
    "for beaching_time in tqdm(range(n_window_beaching)):\n",
    "    \n",
    "    possible_source_time = np.arange((beaching_time),(beaching_time+(d+1)))\n",
    "\n",
    "    post_beaching_idx = slice(((beaching_time)*n_cell_beaching), ((beaching_time+1)*n_cell_beaching))\n",
    "\n",
    "    for j in range((d+1)):\n",
    "        \n",
    "        post_source_idx = slice( ((j)*n_cell_source), ((j+1)*n_cell_source))\n",
    "        ll_source_idx = slice((n_cell_source*(possible_source_time[j])), (n_cell_source*(possible_source_time[j] +1))) \n",
    "        ll_beaching_idx = slice(((j)*n_cell_beaching), ((j+1)*n_cell_beaching))\n",
    "        \n",
    "        l_n_post[post_source_idx, post_beaching_idx] =  ds.l_nn_post[ll_source_idx,ll_beaching_idx]\n",
    "        r_n_post[post_source_idx, post_beaching_idx] =  ds.r_nn_post[ll_source_idx,ll_beaching_idx]\n",
    "        f_n_post[post_source_idx, post_beaching_idx] =  ds.f_nn_post[ll_source_idx,ll_beaching_idx]\n",
    "\n",
    "        \n",
    "# n_post_norm = np.sum(l_n_post, axis = 0) +  np.sum(r_n_post, axis = 0) + np.sum(f_n_post, axis = 0)\n",
    "\n",
    "# l_n_post  = np.nan_to_num(l_n_post / n_post_norm)\n",
    "# r_n_post  = np.nan_to_num(r_n_post / n_post_norm)\n",
    "# f_n_post  = np.nan_to_num(f_n_post / n_post_norm)"
   ]
  },
  {
   "cell_type": "code",
   "execution_count": 7,
   "id": "bfe70843",
   "metadata": {},
   "outputs": [],
   "source": [
    "n_post = xr.Dataset(\n",
    "    {\n",
    "        'l_n_post': (['dsource_windows_cells', 'beaching_window_cells' ], l_n_post),\n",
    "        'r_n_post': (['dsource_windows_cells', 'beaching_window_cells' ], r_n_post),\n",
    "        'f_n_post': (['dsource_windows_cells', 'beaching_window_cells' ], f_n_post),\n",
    "    },\n",
    "    coords={\n",
    "        'dsource_windows_cells': np.arange(n_cell_source*(d+1)),\n",
    "        'beaching_window_cells': np.arange((n_cell_beaching*n_window_beaching)),\n",
    "    },\n",
    ")"
   ]
  },
  {
   "cell_type": "code",
   "execution_count": 8,
   "id": "69e989d2",
   "metadata": {},
   "outputs": [
    {
     "name": "stdout",
     "output_type": "stream",
     "text": [
      "re-chunking\n",
      "   done in 114.46145153045654\n"
     ]
    }
   ],
   "source": [
    "chunksize = {'dsource_windows_cells': n_cell_source,\n",
    "        'beaching_window_cells': n_cell_beaching}\n",
    "\n",
    "print('re-chunking')\n",
    "tic=time.time()\n",
    "n_post = n_post.chunk(chunksize)\n",
    "print('   done in',time.time()-tic)"
   ]
  },
  {
   "cell_type": "code",
   "execution_count": 9,
   "id": "69d75e90",
   "metadata": {},
   "outputs": [
    {
     "name": "stdout",
     "output_type": "stream",
     "text": [
      "[########################################] | 100% Completed | 83.05 s\n"
     ]
    }
   ],
   "source": [
    "delayed_obj = n_post.to_zarr(outputDir + \"nn_post_reshaped.zarr\", compute=False)\n",
    "\n",
    "with ProgressBar():\n",
    "    results = delayed_obj.compute()"
   ]
  },
  {
   "cell_type": "code",
   "execution_count": 10,
   "id": "6be33aa8",
   "metadata": {},
   "outputs": [],
   "source": [
    "# import shutil\n",
    "# shutil.rmtree(outputDir + 'nn_post_reshaped.zarr', ignore_errors=True)"
   ]
  }
 ],
 "metadata": {
  "kernelspec": {
   "display_name": "Python3 py3_parcels",
   "language": "python",
   "name": "py3_parcels"
  },
  "language_info": {
   "codemirror_mode": {
    "name": "ipython",
    "version": 3
   },
   "file_extension": ".py",
   "mimetype": "text/x-python",
   "name": "python",
   "nbconvert_exporter": "python",
   "pygments_lexer": "ipython3",
   "version": "3.10.8"
  }
 },
 "nbformat": 4,
 "nbformat_minor": 5
}
