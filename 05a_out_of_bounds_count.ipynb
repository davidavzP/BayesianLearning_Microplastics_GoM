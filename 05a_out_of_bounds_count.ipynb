{
 "cells": [
  {
   "cell_type": "code",
   "execution_count": 1,
   "id": "6ddbf456",
   "metadata": {},
   "outputs": [],
   "source": [
    "import xarray as xr\n",
    "import pandas as pd\n",
    "import numpy as np\n",
    "import os \n",
    "import timeit\n",
    "import math\n",
    "import time\n",
    "import sparse\n",
    "import dask\n",
    "import dask.array as da\n",
    "from dask.diagnostics import ProgressBar\n",
    "from glob import glob\n",
    "from os import path\n",
    "import pickle\n",
    "from tqdm import tqdm\n",
    "\n",
    "from ll_Balltree import *\n",
    "%run -i 'll_Balltree.py'"
   ]
  },
  {
   "cell_type": "code",
   "execution_count": 2,
   "id": "19fab597",
   "metadata": {},
   "outputs": [
    {
     "data": {
      "text/plain": [
       "(-97.98001098632812,\n",
       " -76.45999145507812,\n",
       " 18.140000343322754,\n",
       " 31.899998664855957,\n",
       " 345,\n",
       " 539,\n",
       " 0.03997802734375,\n",
       " 0.03999900817871094)"
      ]
     },
     "execution_count": 2,
     "metadata": {},
     "output_type": "execute_result"
    }
   ],
   "source": [
    "outputDir = 'data/posterior_computation_data/'\n",
    "gom_masks = xr.open_dataset(outputDir + 'gom_masks.nc')\n",
    "\n",
    "# GLOBAL CONSTANTS\n",
    "MIN_LON = np.min(gom_masks['lon'].values)\n",
    "MAX_LON = np.max(gom_masks['lon'].values)\n",
    "MIN_LAT = np.min(gom_masks['lat'].values)\n",
    "MAX_LAT = np.max(gom_masks['lat'].values)\n",
    "\n",
    "#domain width and height (cell counts)\n",
    "LAT_SIZE = gom_masks.dims['lat']\n",
    "LON_SIZE = gom_masks.dims['lon']\n",
    "\n",
    "#cell size\n",
    "D_LON = gom_masks[\"lon\"][1].values - gom_masks[\"lon\"][0].values\n",
    "D_LAT = gom_masks[\"lat\"][1].values - gom_masks[\"lat\"][0].values\n",
    "\n",
    "BIN_CELL_LATS = gom_masks.bin_cell_lats.values\n",
    "BIN_CELL_LONS = gom_masks.bin_cell_lons.values\n",
    "\n",
    "MIN_LON, MAX_LON, MIN_LAT, MAX_LAT,LAT_SIZE,LON_SIZE, D_LON,D_LAT"
   ]
  },
  {
   "cell_type": "code",
   "execution_count": 3,
   "id": "55070085",
   "metadata": {},
   "outputs": [],
   "source": [
    "inputDir_Sim = ('data/output_v2/rechunked/')\n",
    "inputFiles_Sim = sorted(glob(inputDir_Sim + '*.zarr' ))\n",
    "\n",
    "# Save domain_cell_tree\n",
    "fileObj = open(outputDir + 'output_dict.obj', 'rb')\n",
    "output = pickle.load(fileObj)\n",
    "fileObj.close()"
   ]
  },
  {
   "cell_type": "code",
   "execution_count": 4,
   "id": "d584dc9e",
   "metadata": {},
   "outputs": [],
   "source": [
    "n_cell_beaching = output['n_cell_beaching']\n",
    "n_cell_source = output['n_cell_source']\n",
    "n_window_beaching = output['n_window_beaching'] \n",
    "n_window_source = output['n_window_source']\n",
    "\n",
    "particle_count = output['particle_count']\n",
    "\n",
    "beaching_cells = output['beaching_cells'] \n",
    "beaching_cell_tree = output['beaching_cell_tree']\n",
    "\n",
    "source_cell_mask = output['source_cell_mask']\n",
    "source_cells = output['source_cells']\n",
    "source_cell_tree = output['source_cell_tree']\n",
    "\n",
    "beaching_windows = output['beaching_windows']\n",
    "source_windows = output['source_windows']\n",
    "d = output['d']\n",
    "beaching_ym_mat = output['beaching_ym_mat']\n",
    "source_ym_mat = output['source_ym_mat']"
   ]
  },
  {
   "cell_type": "markdown",
   "id": "26b3f26f",
   "metadata": {},
   "source": [
    "Compute Trajectories for Posterior Computation"
   ]
  },
  {
   "cell_type": "code",
   "execution_count": 7,
   "id": "ac150250",
   "metadata": {},
   "outputs": [],
   "source": [
    "file_particle_counts = []\n",
    "file_obs_counts = []\n",
    "file_oob_count = 0\n",
    "for i in range(5):\n",
    "        filename = inputFiles_Sim[i]\n",
    "        df = xr.open_zarr(filename).dropna(dim=\"trajectory\", how=\"all\")\n",
    "        file_particle_counts.append(df.dims['trajectory'])\n",
    "        file_obs_counts.append(df.dims['obs'])\n",
    "        \n",
    "        oob_raw = df['beached'].values\n",
    "        file_oob_count += np.shape(np.where(oob_raw[:, -1] == 5))[1]"
   ]
  },
  {
   "cell_type": "code",
   "execution_count": 8,
   "id": "2c5e4019",
   "metadata": {},
   "outputs": [
    {
     "data": {
      "text/plain": [
       "(349177, 182, 34761)"
      ]
     },
     "execution_count": 8,
     "metadata": {},
     "output_type": "execute_result"
    }
   ],
   "source": [
    "n_total_particles, n_obs = sum(file_particle_counts), file_obs_counts[0]\n",
    "(n_total_particles, n_obs, file_oob_count)"
   ]
  },
  {
   "cell_type": "code",
   "execution_count": 11,
   "id": "8b42d4b5",
   "metadata": {},
   "outputs": [
    {
     "name": "stdout",
     "output_type": "stream",
     "text": [
      "Out of Bounds Precentage: 9.95512304647786\n"
     ]
    }
   ],
   "source": [
    "print(\"Out of Bounds Percentage |\", 100 * file_oob_count / n_total_particles)"
   ]
  }
 ],
 "metadata": {
  "kernelspec": {
   "display_name": "Python3 py3_parcels",
   "language": "python",
   "name": "py3_parcels"
  },
  "language_info": {
   "codemirror_mode": {
    "name": "ipython",
    "version": 3
   },
   "file_extension": ".py",
   "mimetype": "text/x-python",
   "name": "python",
   "nbconvert_exporter": "python",
   "pygments_lexer": "ipython3",
   "version": "3.10.8"
  }
 },
 "nbformat": 4,
 "nbformat_minor": 5
}
